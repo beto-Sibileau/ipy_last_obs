{
 "cells": [
  {
   "cell_type": "code",
   "execution_count": null,
   "metadata": {},
   "outputs": [],
   "source": [
    "from api_request import api_request\n",
    "import dash_core_components as dcc\n",
    "import dash_html_components as html\n",
    "from dash.dependencies import Input, Output\n",
    "from jupyter_dash import JupyterDash\n",
    "import pandas as pd\n",
    "from io import StringIO"
   ]
  },
  {
   "cell_type": "code",
   "execution_count": null,
   "metadata": {},
   "outputs": [],
   "source": [
    "# read indicator list\n",
    "cl_ind = pd.read_csv(\"./indicator_list/CL_INDICATORS_TRANSMONEE.csv\")\n",
    "# read ecaro country list\n",
    "ecaro_geo = pd.read_csv(\"./indicator_list/CL_COUNTRY.csv\")"
   ]
  },
  {
   "cell_type": "code",
   "execution_count": null,
   "metadata": {},
   "outputs": [],
   "source": [
    "# dropdown indicators\n",
    "dd_ind = dcc.Dropdown(\n",
    "    id=\"my_ind\",\n",
    "    options=[\n",
    "        {\"label\": value, \"value\": key}\n",
    "        for key, value in zip(cl_ind.Id,cl_ind.Name)\n",
    "    ],\n",
    "    value='NT_ANT_WHZ_PO2'\n",
    ")\n",
    "# dropdown countries\n",
    "dd_geo = dcc.Dropdown(\n",
    "    id=\"my_geo\",\n",
    "    options=[\n",
    "        {\"label\": value, \"value\": key}\n",
    "        for key, value in zip(ecaro_geo.Id,ecaro_geo.Name)\n",
    "    ],\n",
    "    value='ALB'\n",
    ")"
   ]
  },
  {
   "cell_type": "code",
   "execution_count": null,
   "metadata": {},
   "outputs": [],
   "source": [
    "external_stylesheets = ['https://codepen.io/chriddyp/pen/bWLwgP.css']\n",
    "# Build App\n",
    "app = JupyterDash(__name__, external_stylesheets=external_stylesheets)"
   ]
  },
  {
   "cell_type": "code",
   "execution_count": null,
   "metadata": {},
   "outputs": [],
   "source": [
    "# App Layout\n",
    "app.layout = html.Div([\n",
    "    html.H2(\"Check TM DB latests observations\"),\n",
    "    html.H6(\"Browse by Indicator and Country to get the latest year reported\"),\n",
    "    html.Div([\n",
    "        html.Div(\n",
    "            [\"Select Indicator\", dd_ind],\n",
    "            style={'width': '49%', 'display': 'inline-block'},\n",
    "        ),\n",
    "        html.Div(\n",
    "            [\"Select Country\", dd_geo],\n",
    "            style={'width': '49%', 'display': 'inline-block'},\n",
    "        ),\n",
    "    ]),\n",
    "    html.Br(),\n",
    "    html.Div(id=\"my-output\")\n",
    "])"
   ]
  },
  {
   "cell_type": "code",
   "execution_count": null,
   "metadata": {},
   "outputs": [],
   "source": [
    "# parameters: API-SDMX Helix (latest observation)\n",
    "api_params = {\"lastNObservations\":1}\n",
    "# API headers\n",
    "api_headers = {\n",
    "    \"Accept\": \"application/vnd.sdmx.data+csv;version=1.0.0\",\n",
    "    \"Accept-Encoding\": \"gzip\",\n",
    "}\n",
    "# UNICEF data warehouse TM url endpoint\n",
    "wh_url = \"https://sdmx.data.unicef.org/ws/public/sdmxapi/rest/data/TRANSMONEE\""
   ]
  },
  {
   "cell_type": "code",
   "execution_count": null,
   "metadata": {},
   "outputs": [],
   "source": [
    "# Define callback to update graph (output/input: 'id', 'property')\n",
    "@app.callback(\n",
    "    Output(\"my-output\", \"children\"),\n",
    "    Input(\"my_ind\", \"value\"),\n",
    "    Input(\"my_geo\", \"value\"),\n",
    ")\n",
    "def query_db(indicator, country):\n",
    "    query = f\"{country}.{indicator}....\"\n",
    "    ind_geo_req = api_request(f\"{wh_url}/{query}\", api_params, api_headers)\n",
    "    if ind_geo_req.status_code == 200:\n",
    "        data = pd.read_csv(StringIO(ind_geo_req.text))\n",
    "        maxdata = \"Latest Year: {}\".format(data[\"TIME_PERIOD:Time period\"].max())\n",
    "    else:\n",
    "        maxdata = \"No Data\"\n",
    "    return maxdata"
   ]
  },
  {
   "cell_type": "code",
   "execution_count": null,
   "metadata": {
    "scrolled": true
   },
   "outputs": [],
   "source": [
    "# Run app and display result inline in the notebook\n",
    "app.run_server(mode='inline')"
   ]
  }
 ],
 "metadata": {
  "kernelspec": {
   "display_name": "Python 3",
   "language": "python",
   "name": "python3"
  },
  "language_info": {
   "codemirror_mode": {
    "name": "ipython",
    "version": 3
   },
   "file_extension": ".py",
   "mimetype": "text/x-python",
   "name": "python",
   "nbconvert_exporter": "python",
   "pygments_lexer": "ipython3",
   "version": "3.7.6"
  },
  "toc": {
   "base_numbering": 1,
   "nav_menu": {},
   "number_sections": true,
   "sideBar": true,
   "skip_h1_title": false,
   "title_cell": "Table of Contents",
   "title_sidebar": "Contents",
   "toc_cell": false,
   "toc_position": {},
   "toc_section_display": true,
   "toc_window_display": false
  }
 },
 "nbformat": 4,
 "nbformat_minor": 4
}
